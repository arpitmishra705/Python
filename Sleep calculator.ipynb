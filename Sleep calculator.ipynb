{
 "cells": [
  {
   "cell_type": "code",
   "execution_count": 7,
   "metadata": {},
   "outputs": [
    {
     "name": "stdout",
     "output_type": "stream",
     "text": [
      "Enter your age: 60\n",
      "You slept for approximately\n",
      "Years: 20.0\n",
      "Months: 240 \n",
      "Days: 7300 \n",
      "Hours: 175200\n"
     ]
    }
   ],
   "source": [
    "a = input(\"Enter your age: \")\n",
    "b = 2920\n",
    "c= int(a) * int(b)\n",
    "d= int(c) / 24\n",
    "e= round(d)\n",
    "f= int(e) / 30.417\n",
    "g= round(f)\n",
    "h= int(g) / 12\n",
    "i= round(h,2)\n",
    "print (\"You slept for approximately\\nYears: \" + str(i) + \"\\nMonths: \" + str(g) + \" \\nDays: \" + str(e) +  \" \\nHours: \" + str(c) )"
   ]
  },
  {
   "cell_type": "code",
   "execution_count": null,
   "metadata": {},
   "outputs": [],
   "source": []
  },
  {
   "cell_type": "code",
   "execution_count": null,
   "metadata": {},
   "outputs": [],
   "source": []
  }
 ],
 "metadata": {
  "kernelspec": {
   "display_name": "Python 3",
   "language": "python",
   "name": "python3"
  },
  "language_info": {
   "codemirror_mode": {
    "name": "ipython",
    "version": 3
   },
   "file_extension": ".py",
   "mimetype": "text/x-python",
   "name": "python",
   "nbconvert_exporter": "python",
   "pygments_lexer": "ipython3",
   "version": "3.8.3"
  }
 },
 "nbformat": 4,
 "nbformat_minor": 4
}
